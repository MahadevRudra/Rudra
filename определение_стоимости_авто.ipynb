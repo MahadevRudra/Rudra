{
 "cells": [
  {
   "cell_type": "markdown",
   "id": "fd1a6cfd",
   "metadata": {},
   "source": [
    "# Определение стоимости автомобилей"
   ]
  },
  {
   "cell_type": "markdown",
   "id": "5008732a",
   "metadata": {},
   "source": [
    "Сервис по продаже автомобилей с пробегом «Не бит, не крашен» разрабатывает приложение для привлечения новых клиентов. В нём можно быстро узнать рыночную стоимость своего автомобиля. В вашем распоряжении исторические данные: технические характеристики, комплектации и цены автомобилей. Вам нужно построить модель для определения стоимости. \n",
    "\n",
    "Заказчику важны:\n",
    "\n",
    "- качество предсказания;\n",
    "- скорость предсказания;\n",
    "- время обучения."
   ]
  },
  {
   "cell_type": "code",
   "execution_count": null,
   "id": "6f1d89db",
   "metadata": {},
   "outputs": [],
   "source": [
    "import pandas as pd\n",
    "import numpy as np\n",
    "\n",
    "import plotly.express as px\n",
    "import plotly.graph_objects as go\n",
    "from plotly.subplots import make_subplots\n",
    "\n",
    "import seaborn as sns\n",
    "\n",
    "import matplotlib.pyplot as plt\n",
    "import numpy as np\n",
    "import seaborn as sns\n",
    "\n",
    "from sklearn.preprocessing import StandardScaler, OrdinalEncoder\n",
    "from sklearn.neighbors import KNeighborsClassifier\n",
    "from sklearn.model_selection import train_test_split, GridSearchCV\n",
    "from sklearn.metrics import r2_score, mean_squared_error\n",
    "from sklearn.linear_model import LinearRegression \n",
    "from sklearn.ensemble import RandomForestRegressor\n",
    "\n",
    "from catboost import CatBoostRegressor\n",
    "\n",
    "from lightgbm import LGBMRegressor\n",
    "\n",
    "import warnings\n",
    "\n",
    "warnings.filterwarnings('ignore')"
   ]
  },
  {
   "cell_type": "markdown",
   "id": "fa525c9c",
   "metadata": {},
   "source": [
    "## Подготовка данных"
   ]
  },
  {
   "cell_type": "code",
   "execution_count": null,
   "id": "55b61c68",
   "metadata": {},
   "outputs": [],
   "source": [
    "try:\n",
    "\n",
    "    df_authentic = pd.read_csv('/Users/admin/Desktop/Rudra PRACTICUM/Projects/my_project/Datasets/autos.csv')\n",
    "    \n",
    "except:\n",
    "    \n",
    "    df_authentic = pd.read_csv('/datasets/autos.csv')"
   ]
  },
  {
   "cell_type": "code",
   "execution_count": null,
   "id": "00179c4d",
   "metadata": {},
   "outputs": [],
   "source": [
    "df_authentic.head()"
   ]
  },
  {
   "cell_type": "code",
   "execution_count": null,
   "id": "aa48db78",
   "metadata": {},
   "outputs": [],
   "source": [
    "#обратил внимание на название столбцов и решил их перевести в рабочий вид\n",
    "\n",
    "df_authentic.set_axis(['date_crawled', \n",
    "            'price', \n",
    "            'vehicle_type',\n",
    "            'registration_year', \n",
    "            'gearbox', \n",
    "            'power', \n",
    "            'model', \n",
    "            'kilometer', \n",
    "            'registration_month', \n",
    "            'fuel_type', \n",
    "            'brand', \n",
    "            'not_repaired', \n",
    "            'date_created', \n",
    "            'number_of_pictures', \n",
    "            'postal_code', \n",
    "            'last_seen'], axis='columns', inplace=True)"
   ]
  },
  {
   "cell_type": "code",
   "execution_count": null,
   "id": "3a93f821",
   "metadata": {},
   "outputs": [],
   "source": [
    "df_authentic.info()"
   ]
  },
  {
   "cell_type": "code",
   "execution_count": null,
   "id": "af4b1b84",
   "metadata": {},
   "outputs": [],
   "source": [
    "df_authentic.isnull().sum()"
   ]
  },
  {
   "cell_type": "code",
   "execution_count": null,
   "id": "30e95933",
   "metadata": {},
   "outputs": [],
   "source": [
    "# удалили на мой взгляд ненужные столбцы\n",
    "\n",
    "df_authentic.drop(\n",
    "    ['date_crawled', 'date_created', 'number_of_pictures', 'postal_code', 'last_seen'], \n",
    "    1, inplace=True\n",
    ")"
   ]
  },
  {
   "cell_type": "markdown",
   "id": "8277ca98",
   "metadata": {},
   "source": [
    "### Визуализирую данные"
   ]
  },
  {
   "cell_type": "code",
   "execution_count": null,
   "id": "ba6fe9e9",
   "metadata": {},
   "outputs": [],
   "source": [
    "df_authentic.corr()"
   ]
  },
  {
   "cell_type": "code",
   "execution_count": null,
   "id": "3639e0d9",
   "metadata": {},
   "outputs": [],
   "source": [
    "_, axs = plt.subplots(4, 1, figsize=(17, 20))\n",
    "\n",
    "axs[0].bar(\n",
    "    df_authentic.vehicle_type.fillna('missed').value_counts().index, \n",
    "    df_authentic.vehicle_type.fillna('missed').value_counts()\n",
    ")\n",
    "axs[1].bar(\n",
    "    df_authentic.gearbox.fillna('missed').value_counts(dropna=False).index, \n",
    "    df_authentic.gearbox.fillna('missed').value_counts(dropna=False)\n",
    ")\n",
    "axs[2].bar(\n",
    "    df_authentic.fuel_type.fillna('missed').value_counts(dropna=False).index, \n",
    "    df_authentic.fuel_type.fillna('missed').value_counts(dropna=False)\n",
    ")\n",
    "axs[3].bar(\n",
    "    df_authentic.not_repaired.fillna('missed').value_counts(dropna=False).index, \n",
    "    df_authentic.not_repaired.fillna('missed').value_counts(dropna=False)\n",
    ")\n",
    "axs[0].set_title('vehicle_type')\n",
    "axs[1].set_title('gearbox')\n",
    "axs[2].set_title('fuel_type')\n",
    "axs[3].set_title('not_repaired')\n",
    "plt.show()"
   ]
  },
  {
   "cell_type": "code",
   "execution_count": null,
   "id": "ec78baa2",
   "metadata": {},
   "outputs": [],
   "source": [
    "categorical_columns = [c for c in df_authentic.columns if df_authentic[c].dtype.name == 'object']\n",
    "\n",
    "df_authentic[categorical_columns].describe()"
   ]
  },
  {
   "cell_type": "code",
   "execution_count": null,
   "id": "9e8581b3",
   "metadata": {},
   "outputs": [],
   "source": [
    "sns.set_style('whitegrid')\n",
    "\n",
    "_, axs = plt.subplots(1, 4, figsize=(17, 7))\n",
    "\n",
    "axs[0].boxplot(x=df_authentic['price'])\n",
    "axs[1].boxplot(x=df_authentic['registration_year'])\n",
    "axs[2].boxplot(x=df_authentic['power'])\n",
    "axs[3].boxplot(x=df_authentic['kilometer'])\n",
    "\n",
    "axs[0].set_title('price')\n",
    "axs[1].set_title('registration_year')\n",
    "axs[2].set_title('power')\n",
    "axs[3].set_title('kilometer')\n",
    "\n",
    "axs[1].set_ylim(1980, 2025)\n",
    "axs[2].set_ylim(0, 1000)\n",
    "\n",
    "plt.show()"
   ]
  },
  {
   "cell_type": "code",
   "execution_count": null,
   "id": "ca84f5f3",
   "metadata": {},
   "outputs": [],
   "source": [
    "df_authentic.describe()"
   ]
  },
  {
   "cell_type": "markdown",
   "id": "c9c197a6",
   "metadata": {},
   "source": [
    "### Заполняю пропуска"
   ]
  },
  {
   "cell_type": "code",
   "execution_count": null,
   "id": "1592a7ca",
   "metadata": {},
   "outputs": [],
   "source": [
    "# заполнил пропущенные значения в столбце vehicle_type, gearbox, model, fuel_type, not_repaired\n",
    "# так как считаю что пользователи просто непрописывали данный признак\n",
    "\n",
    "df_authentic[\n",
    "    ['vehicle_type', 'gearbox', 'model', 'fuel_type', 'not_repaired']\n",
    "] = df_authentic[\n",
    "    ['vehicle_type', 'gearbox', 'model', 'fuel_type', 'not_repaired']\n",
    "].fillna('missed')"
   ]
  },
  {
   "cell_type": "markdown",
   "id": "b2cc5720",
   "metadata": {},
   "source": [
    "### Проверяю выбросы"
   ]
  },
  {
   "cell_type": "code",
   "execution_count": null,
   "id": "d95bba7a",
   "metadata": {},
   "outputs": [],
   "source": [
    "# Заменил все на мой взгляд неодыкватные значения столбца registration_year на 0\n",
    "\n",
    "df_authentic.loc[\n",
    "    (df_authentic.registration_year < 1986) | (df_authentic.registration_year > 2019), \n",
    "    'registration_year'\n",
    "] = 0"
   ]
  },
  {
   "cell_type": "code",
   "execution_count": null,
   "id": "55b18e00",
   "metadata": {},
   "outputs": [],
   "source": [
    "# Заменил все на мой взгляд неодыкватные значения столбца power на 0  \n",
    "\n",
    "df_authentic.loc[\n",
    "    df_authentic.power > 1000, \n",
    "    'power'\n",
    "] = 0"
   ]
  },
  {
   "cell_type": "markdown",
   "id": "19732197",
   "metadata": {},
   "source": [
    "# Перехожу к построению моделей"
   ]
  },
  {
   "cell_type": "code",
   "execution_count": null,
   "id": "ace08e74",
   "metadata": {},
   "outputs": [],
   "source": [
    "# изменил название для удобства\n",
    "\n",
    "df = df_authentic"
   ]
  },
  {
   "cell_type": "code",
   "execution_count": null,
   "id": "a65d885c",
   "metadata": {},
   "outputs": [],
   "source": [
    "y = df.price"
   ]
  },
  {
   "cell_type": "code",
   "execution_count": null,
   "id": "7700270a",
   "metadata": {},
   "outputs": [],
   "source": [
    "# кодирование с помощь метода OHE для линейных моделей\n",
    "\n",
    "X_ohe = pd.get_dummies(\n",
    "    df.drop(['price'], 1),\n",
    "    drop_first=True\n",
    ")"
   ]
  },
  {
   "cell_type": "code",
   "execution_count": null,
   "id": "f3f5135d",
   "metadata": {},
   "outputs": [],
   "source": [
    "categorical_features = ['vehicle_type', 'gearbox', 'model', 'fuel_type', 'brand', 'not_repaired']\n",
    "encoder = OrdinalEncoder()\n",
    "encoder.fit(df[categorical_features])\n",
    "df[categorical_features] = encoder.transform(df[categorical_features])\n",
    "X_encoder = df.drop('price', 1)"
   ]
  },
  {
   "cell_type": "code",
   "execution_count": null,
   "id": "b94375e5",
   "metadata": {},
   "outputs": [],
   "source": [
    "# для линейных моделей \n",
    "\n",
    "X_ohe_train, X_ohe_test, y_ohe_train, y_ohe_test = train_test_split(\n",
    "    X_ohe, y, test_size=0.2, random_state=12345\n",
    ")\n",
    "\n",
    "X_ohe_train, X_ohe_valid, y_ohe_train, y_ohe_valid = train_test_split(\n",
    "    X_ohe_train, y_ohe_train, test_size=0.25, random_state=12345\n",
    ")"
   ]
  },
  {
   "cell_type": "code",
   "execution_count": null,
   "id": "7df24764",
   "metadata": {},
   "outputs": [],
   "source": [
    "# для леса\n",
    "\n",
    "X_encoder_train, X_encoder_test, y_encoder_train, y_encoder_test = train_test_split(\n",
    "    X_encoder, y, test_size=0.2, random_state=12345\n",
    ")\n",
    "\n",
    "X_encoder_train, X_encoder_valid, y_encoder_train, y_encoder_valid = train_test_split(\n",
    "    X_encoder_train, y_encoder_train, test_size=0.25, random_state=12345\n",
    ")"
   ]
  },
  {
   "cell_type": "code",
   "execution_count": null,
   "id": "cc446601",
   "metadata": {},
   "outputs": [],
   "source": [
    "# проведу стандартизацию\n",
    "\n",
    "numeric = ['power', 'kilometer', 'registration_month', 'registration_year']\n",
    "\n",
    "scaler_ohe = StandardScaler()\n",
    "scaler_encoder = StandardScaler()\n",
    "scaler_ohe.fit(X_ohe_train[numeric])\n",
    "scaler_encoder.fit(X_encoder_train[numeric])\n",
    "\n",
    "X_ohe_train[numeric] = scaler_ohe.transform(X_ohe_train[numeric])\n",
    "X_ohe_valid[numeric] = scaler_ohe.transform(X_ohe_valid[numeric]) \n",
    "X_ohe_test[numeric] = scaler_ohe.transform(X_ohe_test[numeric])\n",
    "\n",
    "X_encoder_train[numeric] = scaler_encoder.transform(X_encoder_train[numeric])\n",
    "X_encoder_valid[numeric] = scaler_encoder.transform(X_encoder_valid[numeric]) \n",
    "X_encoder_test[numeric] = scaler_encoder.transform(X_encoder_test[numeric])\n",
    "pd.options.mode.chained_assignment = None"
   ]
  },
  {
   "cell_type": "markdown",
   "id": "9fd2cc78",
   "metadata": {},
   "source": [
    "## Обучение моделей"
   ]
  },
  {
   "cell_type": "code",
   "execution_count": null,
   "id": "b6faf79f",
   "metadata": {},
   "outputs": [],
   "source": [
    "parametrs_rfr = {\n",
    "    'max_depth': [3, 4, 5], \n",
    "    'n_estimators': [30, 40, 50]\n",
    "}"
   ]
  },
  {
   "cell_type": "code",
   "execution_count": null,
   "id": "c28f5ba4",
   "metadata": {},
   "outputs": [],
   "source": [
    "def ML(model_ml, features_train, target_train, features_valid, target_valid, parametrs, **fiter):\n",
    "    clf = model_ml()\n",
    "    grid = GridSearchCV(clf, parametrs, cv=5, scoring='neg_mean_squared_error')\n",
    "    grid.fit(features_train, target_train)\n",
    "    g = grid.best_params_\n",
    "    \n",
    "    model = model_ml(random_state=12345, **g)\n",
    "    model.fit(features_train, target_train, **fiter)\n",
    "    predicted_valid = model.predict(features_valid)\n",
    "    mse = mean_squared_error(target_valid, predicted_valid)\n",
    "    rmse = mse ** 0.5\n",
    "    print(f'RMSE = {rmse}, гиперпараметры {g}')\n",
    "    \n",
    "    return model"
   ]
  },
  {
   "cell_type": "code",
   "execution_count": null,
   "id": "c3351cff",
   "metadata": {},
   "outputs": [],
   "source": [
    "parametrs_cb = {\n",
    "    'loss_function': ['RMSE'],\n",
    "    'iterations': [1000],\n",
    "    'depth': [15],\n",
    "    'verbose': [False]\n",
    "}"
   ]
  },
  {
   "cell_type": "code",
   "execution_count": null,
   "id": "bf5002f7",
   "metadata": {
    "scrolled": false
   },
   "outputs": [],
   "source": [
    "%%time\n",
    "\n",
    "CatBoostRegressor_model = ML(\n",
    "     CatBoostRegressor, \n",
    "     X_encoder_train, \n",
    "     y_encoder_train, \n",
    "     X_encoder_valid, \n",
    "     y_encoder_valid, \n",
    "     parametrs_cb, \n",
    "     verbose=False\n",
    ");"
   ]
  },
  {
   "cell_type": "markdown",
   "id": "07046af0",
   "metadata": {},
   "source": [
    "## Линейная регрессия"
   ]
  },
  {
   "cell_type": "code",
   "execution_count": null,
   "id": "82e8124f",
   "metadata": {},
   "outputs": [],
   "source": [
    "model_linearregression = LinearRegression()"
   ]
  },
  {
   "cell_type": "code",
   "execution_count": null,
   "id": "26027ef5",
   "metadata": {},
   "outputs": [],
   "source": [
    "%%time\n",
    "model_linearregression.fit(X_ohe_train, y_ohe_train);"
   ]
  },
  {
   "cell_type": "code",
   "execution_count": null,
   "id": "7ca74ce0",
   "metadata": {},
   "outputs": [],
   "source": [
    "predict_LR = model_linearregression.predict(X_ohe_valid)"
   ]
  },
  {
   "cell_type": "code",
   "execution_count": null,
   "id": "4cbfbf6e",
   "metadata": {},
   "outputs": [],
   "source": [
    "mse = mean_squared_error(y_ohe_valid, predict_LR)\n",
    "rmse = mse ** 0.5"
   ]
  },
  {
   "cell_type": "code",
   "execution_count": null,
   "id": "8d9b8a11",
   "metadata": {},
   "outputs": [],
   "source": [
    "print(f'RMSE {rmse}')"
   ]
  },
  {
   "cell_type": "markdown",
   "id": "733ea6c6",
   "metadata": {},
   "source": [
    "## Случайный лес"
   ]
  },
  {
   "cell_type": "code",
   "execution_count": null,
   "id": "808dec85",
   "metadata": {},
   "outputs": [],
   "source": [
    "parametrs_rfr = {\n",
    "    'max_depth': [15], \n",
    "    'n_estimators': [100]\n",
    "}"
   ]
  },
  {
   "cell_type": "code",
   "execution_count": null,
   "id": "c6f240e2",
   "metadata": {},
   "outputs": [],
   "source": [
    "%%time\n",
    "RandomForestRegressor_model = ML(\n",
    "    RandomForestRegressor, X_encoder_train, y_encoder_train, X_encoder_valid, y_encoder_valid, parametrs_rfr\n",
    ")"
   ]
  },
  {
   "cell_type": "markdown",
   "id": "4c0ecf7e",
   "metadata": {},
   "source": [
    "## LightGBM"
   ]
  },
  {
   "cell_type": "code",
   "execution_count": null,
   "id": "7da3ca64",
   "metadata": {},
   "outputs": [],
   "source": [
    "parametrs_LGBM = {\n",
    "    'max_depth': [15], \n",
    "    'n_estimators': [1000]\n",
    "}"
   ]
  },
  {
   "cell_type": "code",
   "execution_count": null,
   "id": "305e03c7",
   "metadata": {},
   "outputs": [],
   "source": [
    "%%time\n",
    "LGBMRegressor_model = ML(\n",
    "    LGBMRegressor, X_encoder_train, y_encoder_train, X_encoder_valid, y_encoder_valid, parametrs_LGBM\n",
    ")"
   ]
  },
  {
   "cell_type": "markdown",
   "id": "5c392aee",
   "metadata": {},
   "source": [
    "## Проверяю время на тестовой выбоке"
   ]
  },
  {
   "cell_type": "markdown",
   "id": "2b67d5e5",
   "metadata": {},
   "source": [
    "# CatBoost"
   ]
  },
  {
   "cell_type": "code",
   "execution_count": null,
   "id": "3240e341",
   "metadata": {},
   "outputs": [],
   "source": [
    "%%time\n",
    "pred = CatBoostRegressor_model.predict(X_encoder_test)\n",
    "mse = mean_squared_error(y_encoder_test, pred)\n",
    "rmse = mse ** 0.5\n",
    "print(f'RMSE {rmse}')"
   ]
  },
  {
   "cell_type": "markdown",
   "id": "c3121256",
   "metadata": {},
   "source": [
    "# LinearRegression"
   ]
  },
  {
   "cell_type": "code",
   "execution_count": null,
   "id": "b6a18975",
   "metadata": {},
   "outputs": [],
   "source": [
    "%%time\n",
    "predict_LR = model_linearregression.predict(X_ohe_test)\n",
    "mse = mean_squared_error(y_ohe_test, predict_LR)\n",
    "rmse = mse ** 0.5\n",
    "print(f'RMSE {rmse}')"
   ]
  },
  {
   "cell_type": "markdown",
   "id": "e5062f5f",
   "metadata": {},
   "source": [
    "# RandomForestRegressor"
   ]
  },
  {
   "cell_type": "code",
   "execution_count": null,
   "id": "563f82ce",
   "metadata": {},
   "outputs": [],
   "source": [
    "%%time\n",
    "predicted_test = RandomForestRegressor_model[1].predict(X_encoder_test)\n",
    "mse = mean_squared_error(y_encoder_test, predicted_test)\n",
    "rmse = mse ** 0.5\n",
    "print(f'RMSE {rmse}')"
   ]
  },
  {
   "cell_type": "markdown",
   "id": "79a40c07",
   "metadata": {},
   "source": [
    "# LGBMRegressor"
   ]
  },
  {
   "cell_type": "code",
   "execution_count": null,
   "id": "dda74cd7",
   "metadata": {
    "scrolled": true
   },
   "outputs": [],
   "source": [
    "%%time\n",
    "predicted_test = LGBMRegressor_model.predict(X_encoder_test)\n",
    "mse = mean_squared_error(y_encoder_test, predicted_test)\n",
    "rmse = mse ** 0.5\n",
    "print(f'RMSE {rmse}')"
   ]
  },
  {
   "cell_type": "markdown",
   "id": "79b2a489",
   "metadata": {},
   "source": [
    "# Вывод\n",
    "\n",
    "самой быстрой, но самой худшей по предсказаниям оказалась модель LinearRegression\n",
    "RandomForestRegressor оказался очень долгим\n",
    "CatBoost результаты неплозие, но долгое обучение\n",
    "LGBMRegressor отличный результат и маленькое время обучения"
   ]
  }
 ],
 "metadata": {
  "ExecuteTimeLog": [
   {
    "duration": 2872,
    "start_time": "2021-06-13T07:18:42.040Z"
   },
   {
    "duration": 1712,
    "start_time": "2021-06-13T07:18:44.915Z"
   },
   {
    "duration": 52,
    "start_time": "2021-06-13T07:18:46.631Z"
   },
   {
    "duration": 7,
    "start_time": "2021-06-13T07:18:46.687Z"
   },
   {
    "duration": 287,
    "start_time": "2021-06-13T07:18:46.698Z"
   },
   {
    "duration": 4,
    "start_time": "2021-06-13T07:18:46.989Z"
   },
   {
    "duration": 397,
    "start_time": "2021-06-13T07:18:46.997Z"
   },
   {
    "duration": 5,
    "start_time": "2021-06-13T07:18:47.397Z"
   },
   {
    "duration": 949,
    "start_time": "2021-06-13T07:18:47.408Z"
   },
   {
    "duration": 986,
    "start_time": "2021-06-13T07:18:48.360Z"
   },
   {
    "duration": 1550,
    "start_time": "2021-06-13T07:18:49.350Z"
   },
   {
    "duration": 89,
    "start_time": "2021-06-13T07:18:50.902Z"
   },
   {
    "duration": 258,
    "start_time": "2021-06-13T07:18:50.994Z"
   },
   {
    "duration": 4,
    "start_time": "2021-06-13T07:18:51.254Z"
   },
   {
    "duration": 23,
    "start_time": "2021-06-13T07:18:51.260Z"
   },
   {
    "duration": 9,
    "start_time": "2021-06-13T07:18:51.285Z"
   },
   {
    "duration": 648,
    "start_time": "2021-06-13T07:20:49.492Z"
   },
   {
    "duration": 9,
    "start_time": "2021-06-13T07:22:10.912Z"
   }
  ],
  "kernelspec": {
   "display_name": "Python 3",
   "language": "python",
   "name": "python3"
  },
  "language_info": {
   "codemirror_mode": {
    "name": "ipython",
    "version": 3
   },
   "file_extension": ".py",
   "mimetype": "text/x-python",
   "name": "python",
   "nbconvert_exporter": "python",
   "pygments_lexer": "ipython3",
   "version": "3.7.10"
  },
  "toc": {
   "base_numbering": 1,
   "nav_menu": {},
   "number_sections": true,
   "sideBar": true,
   "skip_h1_title": true,
   "title_cell": "Table of Contents",
   "title_sidebar": "Contents",
   "toc_cell": false,
   "toc_position": {},
   "toc_section_display": true,
   "toc_window_display": false
  }
 },
 "nbformat": 4,
 "nbformat_minor": 5
}
