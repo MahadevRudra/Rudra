{
 "cells": [
  {
   "cell_type": "markdown",
   "id": "8a0995fa",
   "metadata": {},
   "source": [
    "# Защита персональных данных клиентов"
   ]
  },
  {
   "cell_type": "markdown",
   "id": "4c8ce89d",
   "metadata": {},
   "source": [
    "Вам нужно защитить данные клиентов страховой компании «Хоть потоп». Разработайте такой метод преобразования данных, чтобы по ним было сложно восстановить персональную информацию. Обоснуйте корректность его работы.\n",
    "\n",
    "Нужно защитить данные, чтобы при преобразовании качество моделей машинного обучения не ухудшилось. Подбирать наилучшую модель не требуется."
   ]
  },
  {
   "cell_type": "markdown",
   "id": "4d18be0d",
   "metadata": {},
   "source": [
    "## Загрузка данных"
   ]
  },
  {
   "cell_type": "code",
   "execution_count": 1,
   "id": "15fddbc4",
   "metadata": {},
   "outputs": [],
   "source": [
    "import pandas as pd\n",
    "import numpy as np\n",
    "from sklearn.metrics import r2_score\n",
    "from sklearn.linear_model import LinearRegression"
   ]
  },
  {
   "cell_type": "code",
   "execution_count": 2,
   "id": "a066217d",
   "metadata": {},
   "outputs": [],
   "source": [
    "df = pd.read_csv('/Users/admin/Desktop/Rudra PRACTICUM/Projects/my_project/Datasets/insurance.csv')"
   ]
  },
  {
   "cell_type": "code",
   "execution_count": 3,
   "id": "e06acb2f",
   "metadata": {},
   "outputs": [
    {
     "name": "stdout",
     "output_type": "stream",
     "text": [
      "<class 'pandas.core.frame.DataFrame'>\n",
      "RangeIndex: 5000 entries, 0 to 4999\n",
      "Data columns (total 5 columns):\n",
      "Пол                  5000 non-null int64\n",
      "Возраст              5000 non-null float64\n",
      "Зарплата             5000 non-null float64\n",
      "Члены семьи          5000 non-null int64\n",
      "Страховые выплаты    5000 non-null int64\n",
      "dtypes: float64(2), int64(3)\n",
      "memory usage: 195.4 KB\n"
     ]
    }
   ],
   "source": [
    "df.info()"
   ]
  },
  {
   "cell_type": "code",
   "execution_count": 4,
   "id": "87a27c63",
   "metadata": {},
   "outputs": [
    {
     "data": {
      "text/html": [
       "<div>\n",
       "<style scoped>\n",
       "    .dataframe tbody tr th:only-of-type {\n",
       "        vertical-align: middle;\n",
       "    }\n",
       "\n",
       "    .dataframe tbody tr th {\n",
       "        vertical-align: top;\n",
       "    }\n",
       "\n",
       "    .dataframe thead th {\n",
       "        text-align: right;\n",
       "    }\n",
       "</style>\n",
       "<table border=\"1\" class=\"dataframe\">\n",
       "  <thead>\n",
       "    <tr style=\"text-align: right;\">\n",
       "      <th></th>\n",
       "      <th>Пол</th>\n",
       "      <th>Возраст</th>\n",
       "      <th>Зарплата</th>\n",
       "      <th>Члены семьи</th>\n",
       "      <th>Страховые выплаты</th>\n",
       "    </tr>\n",
       "  </thead>\n",
       "  <tbody>\n",
       "    <tr>\n",
       "      <td>0</td>\n",
       "      <td>1</td>\n",
       "      <td>41</td>\n",
       "      <td>49600</td>\n",
       "      <td>1</td>\n",
       "      <td>0</td>\n",
       "    </tr>\n",
       "    <tr>\n",
       "      <td>1</td>\n",
       "      <td>0</td>\n",
       "      <td>46</td>\n",
       "      <td>38000</td>\n",
       "      <td>1</td>\n",
       "      <td>1</td>\n",
       "    </tr>\n",
       "    <tr>\n",
       "      <td>2</td>\n",
       "      <td>0</td>\n",
       "      <td>29</td>\n",
       "      <td>21000</td>\n",
       "      <td>0</td>\n",
       "      <td>0</td>\n",
       "    </tr>\n",
       "    <tr>\n",
       "      <td>3</td>\n",
       "      <td>0</td>\n",
       "      <td>21</td>\n",
       "      <td>41700</td>\n",
       "      <td>2</td>\n",
       "      <td>0</td>\n",
       "    </tr>\n",
       "    <tr>\n",
       "      <td>4</td>\n",
       "      <td>1</td>\n",
       "      <td>28</td>\n",
       "      <td>26100</td>\n",
       "      <td>0</td>\n",
       "      <td>0</td>\n",
       "    </tr>\n",
       "    <tr>\n",
       "      <td>...</td>\n",
       "      <td>...</td>\n",
       "      <td>...</td>\n",
       "      <td>...</td>\n",
       "      <td>...</td>\n",
       "      <td>...</td>\n",
       "    </tr>\n",
       "    <tr>\n",
       "      <td>4995</td>\n",
       "      <td>0</td>\n",
       "      <td>28</td>\n",
       "      <td>35700</td>\n",
       "      <td>2</td>\n",
       "      <td>0</td>\n",
       "    </tr>\n",
       "    <tr>\n",
       "      <td>4996</td>\n",
       "      <td>0</td>\n",
       "      <td>34</td>\n",
       "      <td>52400</td>\n",
       "      <td>1</td>\n",
       "      <td>0</td>\n",
       "    </tr>\n",
       "    <tr>\n",
       "      <td>4997</td>\n",
       "      <td>0</td>\n",
       "      <td>20</td>\n",
       "      <td>33900</td>\n",
       "      <td>2</td>\n",
       "      <td>0</td>\n",
       "    </tr>\n",
       "    <tr>\n",
       "      <td>4998</td>\n",
       "      <td>1</td>\n",
       "      <td>22</td>\n",
       "      <td>32700</td>\n",
       "      <td>3</td>\n",
       "      <td>0</td>\n",
       "    </tr>\n",
       "    <tr>\n",
       "      <td>4999</td>\n",
       "      <td>1</td>\n",
       "      <td>28</td>\n",
       "      <td>40600</td>\n",
       "      <td>1</td>\n",
       "      <td>0</td>\n",
       "    </tr>\n",
       "  </tbody>\n",
       "</table>\n",
       "<p>5000 rows × 5 columns</p>\n",
       "</div>"
      ],
      "text/plain": [
       "      Пол  Возраст  Зарплата  Члены семьи  Страховые выплаты\n",
       "0       1       41     49600            1                  0\n",
       "1       0       46     38000            1                  1\n",
       "2       0       29     21000            0                  0\n",
       "3       0       21     41700            2                  0\n",
       "4       1       28     26100            0                  0\n",
       "...   ...      ...       ...          ...                ...\n",
       "4995    0       28     35700            2                  0\n",
       "4996    0       34     52400            1                  0\n",
       "4997    0       20     33900            2                  0\n",
       "4998    1       22     32700            3                  0\n",
       "4999    1       28     40600            1                  0\n",
       "\n",
       "[5000 rows x 5 columns]"
      ]
     },
     "execution_count": 4,
     "metadata": {},
     "output_type": "execute_result"
    }
   ],
   "source": [
    "df[['Возраст', 'Зарплата']] = df[['Возраст', 'Зарплата']].astype('int')\n",
    "df"
   ]
  },
  {
   "cell_type": "code",
   "execution_count": 5,
   "id": "94401bab",
   "metadata": {},
   "outputs": [
    {
     "data": {
      "text/plain": [
       "(5000, 5)"
      ]
     },
     "execution_count": 5,
     "metadata": {},
     "output_type": "execute_result"
    }
   ],
   "source": [
    "df.shape"
   ]
  },
  {
   "cell_type": "markdown",
   "id": "e7f30375",
   "metadata": {},
   "source": [
    "## Умножение матриц"
   ]
  },
  {
   "cell_type": "markdown",
   "id": "6d1e6bb7",
   "metadata": {},
   "source": [
    "Обозначения:\n",
    "\n",
    "- $X$ — матрица признаков (нулевой столбец состоит из единиц)\n",
    "\n",
    "- $y$ — вектор целевого признака\n",
    "\n",
    "- $P$ — матрица, на которую умножаются признаки\n",
    "\n",
    "- $w$ — вектор весов линейной регрессии (нулевой элемент равен сдвигу)"
   ]
  },
  {
   "cell_type": "markdown",
   "id": "a96346dc",
   "metadata": {},
   "source": [
    "Предсказания:\n",
    "\n",
    "$$\n",
    "a = Xw\n",
    "$$\n",
    "\n",
    "Задача обучения:\n",
    "\n",
    "$$\n",
    "w = \\arg\\min_w MSE(Xw, y)\n",
    "$$\n",
    "\n",
    "Формула обучения:\n",
    "\n",
    "$$\n",
    "w = (X^T X)^{-1} X^T y\n",
    "$$"
   ]
  },
  {
   "cell_type": "markdown",
   "id": "d4d42b9a",
   "metadata": {},
   "source": [
    "**Ответ:** \n",
    "b\n",
    "\n",
    "**Обоснование:** \n",
    "$$\n",
    "a = Xw = XPw' = a';\n",
    "$$\n",
    "$$\n",
    "a = Xw = XP * ((XP)^T * XP)^{-1} * (XP)^T * y = a';\n",
    "$$\n",
    "$$\n",
    "a = Xw = XP * (P^T * X^T * XP)^{-1} * P^T * X^T * y = a';\n",
    "$$\n",
    "$$\n",
    "a = Xw = XP * (P^T * (X^TX)P)^{-1} * P^T * X^T * y = a';\n",
    "$$\n",
    "$$\n",
    "a = Xw = XP * P^{-1} * (P^T(X^TX))^{-1} * P^T * X^T * y = a';\n",
    "$$\n",
    "$$\n",
    "a = Xw = XP * P^{-1} * (X^TX)^{-1} * P^{-T} * P^T * X^T * y = a';\n",
    "$$\n",
    "$$\n",
    "P^{-T} * P^T - сокращаем, уравнение (X^TX)^{-1} * X^T * y = w\n",
    "$$\n",
    "$$\n",
    "a = Xw = XP * P^{-1} * w = a'; \n",
    "$$\n",
    "$$\n",
    "P * P^{-1} - сокращаем\n",
    "$$\n",
    "$$\n",
    "a = Xw = Xw = a'\n",
    "$$\n",
    "$$\n",
    "a = a'\n",
    "$$"
   ]
  },
  {
   "cell_type": "markdown",
   "id": "32864522",
   "metadata": {},
   "source": [
    "## Проверка алгоритма"
   ]
  },
  {
   "cell_type": "markdown",
   "id": "1443dade",
   "metadata": {},
   "source": [
    "**Алгоритм**\n",
    "\n",
    "использую простое умножение признаков на обратимую матрицу"
   ]
  },
  {
   "cell_type": "markdown",
   "id": "3f40eaa9",
   "metadata": {},
   "source": [
    "**Обоснование**\n",
    "\n",
    "Обоснование смотрите в предыдущем пункте"
   ]
  },
  {
   "cell_type": "markdown",
   "id": "bc7d595c",
   "metadata": {},
   "source": [
    "## Проверка алгоритма"
   ]
  },
  {
   "cell_type": "code",
   "execution_count": 6,
   "id": "ee05269e",
   "metadata": {},
   "outputs": [],
   "source": [
    "features = df.drop('Страховые выплаты', axis=1)\n",
    "target = df['Страховые выплаты']\n",
    "invertible_matrix = np.array(\n",
    "    np.random.normal(size=(features.shape[1], features.shape[1])), np.random.seed(42)\n",
    ")\n",
    "new_features = np.dot(features, invertible_matrix)"
   ]
  },
  {
   "cell_type": "code",
   "execution_count": 15,
   "id": "b6846fb7",
   "metadata": {},
   "outputs": [
    {
     "data": {
      "text/plain": [
       "(4, 4)"
      ]
     },
     "execution_count": 15,
     "metadata": {},
     "output_type": "execute_result"
    }
   ],
   "source": [
    "invertible_matrix.shape"
   ]
  },
  {
   "cell_type": "code",
   "execution_count": 7,
   "id": "d4aaa8e5",
   "metadata": {},
   "outputs": [],
   "source": [
    "model = LinearRegression()\n",
    "model.fit(features, target)\n",
    "predicted  = model.predict(features)\n",
    "R2_norm = r2_score(target, predicted)"
   ]
  },
  {
   "cell_type": "code",
   "execution_count": 8,
   "id": "a5405493",
   "metadata": {},
   "outputs": [],
   "source": [
    "model = LinearRegression()\n",
    "model.fit(new_features, target)\n",
    "predicted  = model.predict(new_features)\n",
    "R2_encoded = r2_score(target, predicted)"
   ]
  },
  {
   "cell_type": "code",
   "execution_count": 18,
   "id": "c90f5ad5",
   "metadata": {},
   "outputs": [
    {
     "name": "stdout",
     "output_type": "stream",
     "text": [
      "Качество линейной регрессии из sklearn не отличается до и после преобразования.          \n",
      "Отношение равно 1.0\n"
     ]
    }
   ],
   "source": [
    "if (R2_norm / R2_encoded) <= 1:\n",
    "    print(f'Качество линейной регрессии из sklearn не отличается до и после преобразования.\\\n",
    "          \\nОтношение равно {R2_norm / R2_encoded}')\n",
    "else:\n",
    "    print('Качество линейной регрессии из sklearn отличается до и после преобразования.')"
   ]
  },
  {
   "cell_type": "markdown",
   "id": "8a315ba7",
   "metadata": {},
   "source": [
    "# Вывод\n",
    "\n",
    "Кодирование с использованием умножения матрицы признаков на обратимую матрицу корректен так как качество моделей машинного обучения не ухудшилось."
   ]
  }
 ],
 "metadata": {
  "kernelspec": {
   "display_name": "Python 3",
   "language": "python",
   "name": "python3"
  },
  "language_info": {
   "codemirror_mode": {
    "name": "ipython",
    "version": 3
   },
   "file_extension": ".py",
   "mimetype": "text/x-python",
   "name": "python",
   "nbconvert_exporter": "python",
   "pygments_lexer": "ipython3",
   "version": "3.7.10"
  },
  "toc": {
   "base_numbering": 1,
   "nav_menu": {},
   "number_sections": true,
   "sideBar": true,
   "skip_h1_title": true,
   "title_cell": "Table of Contents",
   "title_sidebar": "Contents",
   "toc_cell": false,
   "toc_position": {},
   "toc_section_display": true,
   "toc_window_display": false
  }
 },
 "nbformat": 4,
 "nbformat_minor": 5
}
