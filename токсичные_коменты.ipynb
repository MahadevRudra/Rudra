{
 "cells": [
  {
   "cell_type": "markdown",
   "id": "8091faae",
   "metadata": {},
   "source": [
    "# Описание проекта\n",
    "\n",
    "-Интернет-магазин «Викишоп» запускает новый сервис. Теперь пользователи могут редактировать и дополнять -описания товаров, как в вики-сообществах. То есть клиенты предлагают свои правки и комментируют изменения -других. Магазину нужен инструмент, который будет искать токсичные комментарии и отправлять их на модерацию.\n"
   ]
  },
  {
   "cell_type": "code",
   "execution_count": 89,
   "id": "ba6b746b",
   "metadata": {},
   "outputs": [],
   "source": [
    "import pandas as pd\n",
    "\n",
    "from pymystem3 import Mystem\n",
    "\n",
    "import nltk\n",
    "from nltk.stem import WordNetLemmatizer \n",
    "from nltk.corpus import wordnet\n",
    "from nltk.corpus import stopwords\n",
    "\n",
    "from sklearn.feature_extraction.text import TfidfVectorizer\n",
    "from sklearn.metrics import f1_score\n",
    "from sklearn.tree import DecisionTreeClassifier\n",
    "\n",
    "import re\n",
    "\n",
    "from sklearn.preprocessing import StandardScaler, OrdinalEncoder\n",
    "from sklearn.neighbors import KNeighborsClassifier\n",
    "from sklearn.model_selection import train_test_split, GridSearchCV\n",
    "from sklearn.metrics import r2_score, mean_squared_error\n",
    "from sklearn.linear_model import LogisticRegression \n",
    "from sklearn.ensemble import RandomForestClassifier\n",
    "from sklearn.model_selection import cross_val_score\n",
    "\n",
    "from lightgbm import LGBMClassifier"
   ]
  },
  {
   "cell_type": "markdown",
   "id": "b9ae6a4c",
   "metadata": {},
   "source": [
    "# 1 Загрузил и подготовил данные"
   ]
  },
  {
   "cell_type": "code",
   "execution_count": 90,
   "id": "06d80853",
   "metadata": {},
   "outputs": [],
   "source": [
    "try:\n",
    "    \n",
    "    data = pd.read_csv('/Users/admin/Desktop/Rudra PRACTICUM/Projects/my_project/Datasets/toxic_comments.csv')\n",
    "    \n",
    "except:\n",
    "\n",
    "    data = pd.read_csv('/datasets/toxic_comments.csv')"
   ]
  },
  {
   "cell_type": "code",
   "execution_count": 3,
   "id": "c64275fa",
   "metadata": {},
   "outputs": [
    {
     "data": {
      "text/html": [
       "<div>\n",
       "<style scoped>\n",
       "    .dataframe tbody tr th:only-of-type {\n",
       "        vertical-align: middle;\n",
       "    }\n",
       "\n",
       "    .dataframe tbody tr th {\n",
       "        vertical-align: top;\n",
       "    }\n",
       "\n",
       "    .dataframe thead th {\n",
       "        text-align: right;\n",
       "    }\n",
       "</style>\n",
       "<table border=\"1\" class=\"dataframe\">\n",
       "  <thead>\n",
       "    <tr style=\"text-align: right;\">\n",
       "      <th></th>\n",
       "      <th>text</th>\n",
       "      <th>toxic</th>\n",
       "    </tr>\n",
       "  </thead>\n",
       "  <tbody>\n",
       "    <tr>\n",
       "      <td>0</td>\n",
       "      <td>Explanation\\nWhy the edits made under my usern...</td>\n",
       "      <td>0</td>\n",
       "    </tr>\n",
       "    <tr>\n",
       "      <td>1</td>\n",
       "      <td>D'aww! He matches this background colour I'm s...</td>\n",
       "      <td>0</td>\n",
       "    </tr>\n",
       "    <tr>\n",
       "      <td>2</td>\n",
       "      <td>Hey man, I'm really not trying to edit war. It...</td>\n",
       "      <td>0</td>\n",
       "    </tr>\n",
       "    <tr>\n",
       "      <td>3</td>\n",
       "      <td>\"\\nMore\\nI can't make any real suggestions on ...</td>\n",
       "      <td>0</td>\n",
       "    </tr>\n",
       "    <tr>\n",
       "      <td>4</td>\n",
       "      <td>You, sir, are my hero. Any chance you remember...</td>\n",
       "      <td>0</td>\n",
       "    </tr>\n",
       "    <tr>\n",
       "      <td>...</td>\n",
       "      <td>...</td>\n",
       "      <td>...</td>\n",
       "    </tr>\n",
       "    <tr>\n",
       "      <td>159566</td>\n",
       "      <td>\":::::And for the second time of asking, when ...</td>\n",
       "      <td>0</td>\n",
       "    </tr>\n",
       "    <tr>\n",
       "      <td>159567</td>\n",
       "      <td>You should be ashamed of yourself \\n\\nThat is ...</td>\n",
       "      <td>0</td>\n",
       "    </tr>\n",
       "    <tr>\n",
       "      <td>159568</td>\n",
       "      <td>Spitzer \\n\\nUmm, theres no actual article for ...</td>\n",
       "      <td>0</td>\n",
       "    </tr>\n",
       "    <tr>\n",
       "      <td>159569</td>\n",
       "      <td>And it looks like it was actually you who put ...</td>\n",
       "      <td>0</td>\n",
       "    </tr>\n",
       "    <tr>\n",
       "      <td>159570</td>\n",
       "      <td>\"\\nAnd ... I really don't think you understand...</td>\n",
       "      <td>0</td>\n",
       "    </tr>\n",
       "  </tbody>\n",
       "</table>\n",
       "<p>159571 rows × 2 columns</p>\n",
       "</div>"
      ],
      "text/plain": [
       "                                                     text  toxic\n",
       "0       Explanation\\nWhy the edits made under my usern...      0\n",
       "1       D'aww! He matches this background colour I'm s...      0\n",
       "2       Hey man, I'm really not trying to edit war. It...      0\n",
       "3       \"\\nMore\\nI can't make any real suggestions on ...      0\n",
       "4       You, sir, are my hero. Any chance you remember...      0\n",
       "...                                                   ...    ...\n",
       "159566  \":::::And for the second time of asking, when ...      0\n",
       "159567  You should be ashamed of yourself \\n\\nThat is ...      0\n",
       "159568  Spitzer \\n\\nUmm, theres no actual article for ...      0\n",
       "159569  And it looks like it was actually you who put ...      0\n",
       "159570  \"\\nAnd ... I really don't think you understand...      0\n",
       "\n",
       "[159571 rows x 2 columns]"
      ]
     },
     "execution_count": 3,
     "metadata": {},
     "output_type": "execute_result"
    }
   ],
   "source": [
    "data"
   ]
  },
  {
   "cell_type": "code",
   "execution_count": 4,
   "id": "ec2838fa",
   "metadata": {},
   "outputs": [],
   "source": [
    "corpus = data.text"
   ]
  },
  {
   "cell_type": "code",
   "execution_count": 5,
   "id": "ce78b71e",
   "metadata": {},
   "outputs": [
    {
     "name": "stderr",
     "output_type": "stream",
     "text": [
      "[nltk_data] Downloading package wordnet to /Users/admin/nltk_data...\n",
      "[nltk_data]   Package wordnet is already up-to-date!\n"
     ]
    },
    {
     "data": {
      "text/plain": [
       "True"
      ]
     },
     "execution_count": 5,
     "metadata": {},
     "output_type": "execute_result"
    }
   ],
   "source": [
    "nltk.download('wordnet')"
   ]
  },
  {
   "cell_type": "code",
   "execution_count": 6,
   "id": "db2e71db",
   "metadata": {},
   "outputs": [],
   "source": [
    "lemmatizer = WordNetLemmatizer()"
   ]
  },
  {
   "cell_type": "code",
   "execution_count": 7,
   "id": "13a8f812",
   "metadata": {},
   "outputs": [],
   "source": [
    "def get_wordnet_pos(word):\n",
    "    tag = nltk.pos_tag([word])[0][1][0].upper()\n",
    "    tag_dict = {\"J\": wordnet.ADJ,\n",
    "                \"N\": wordnet.NOUN,\n",
    "                \"V\": wordnet.VERB,\n",
    "                \"R\": wordnet.ADV}\n",
    "    return tag_dict.get(tag, wordnet.NOUN)"
   ]
  },
  {
   "cell_type": "code",
   "execution_count": 8,
   "id": "635eefc3",
   "metadata": {},
   "outputs": [],
   "source": [
    "def lemmatized(text):\n",
    "    stopword = set(stopwords.words(\"english\"))\n",
    "    text = \" \".join(re.sub(r'[^a-zA-Z]', ' ', text).split())\n",
    "    word_list = nltk.word_tokenize(text)\n",
    "    without_stop_words = [word for word in word_list if not word in stopword]\n",
    "    return \" \".join([lemmatizer.lemmatize(w, get_wordnet_pos(w)) for w in without_stop_words])"
   ]
  },
  {
   "cell_type": "code",
   "execution_count": 9,
   "id": "4181745f",
   "metadata": {},
   "outputs": [],
   "source": [
    "corpus = corpus.apply(lemmatized).values.astype('U')"
   ]
  },
  {
   "cell_type": "code",
   "execution_count": 10,
   "id": "21f8ce66",
   "metadata": {},
   "outputs": [],
   "source": [
    "stopword = set(stopwords.words(\"english\"))"
   ]
  },
  {
   "cell_type": "markdown",
   "id": "0d05554a",
   "metadata": {},
   "source": [
    "# Ищем лучшую модель"
   ]
  },
  {
   "cell_type": "code",
   "execution_count": 13,
   "id": "41ee1b63",
   "metadata": {},
   "outputs": [],
   "source": [
    "y = data.toxic"
   ]
  },
  {
   "cell_type": "code",
   "execution_count": 14,
   "id": "f3afe324",
   "metadata": {},
   "outputs": [],
   "source": [
    "X = corpus"
   ]
  },
  {
   "cell_type": "code",
   "execution_count": 16,
   "id": "ef0a0f8d",
   "metadata": {},
   "outputs": [],
   "source": [
    "X_train, X_test, y_train, y_test = train_test_split(\n",
    "    X, y, test_size=0.2, random_state=12345, stratify=y\n",
    ")\n",
    "\n",
    "X_train, X_valid, y_train, y_valid = train_test_split(\n",
    "    X_train, y_train, test_size=0.25, random_state=12345, stratify=y_train\n",
    ")"
   ]
  },
  {
   "cell_type": "code",
   "execution_count": 17,
   "id": "47ed0f57",
   "metadata": {
    "scrolled": true
   },
   "outputs": [],
   "source": [
    "tf_idf = TfidfVectorizer(stop_words=stopword)\n",
    "X_train = tf_idf.fit_transform(X_train)\n",
    "X_valid = tf_idf.transform(X_valid)\n",
    "X_test = tf_idf.transform(X_test)"
   ]
  },
  {
   "cell_type": "code",
   "execution_count": 42,
   "id": "25845dae",
   "metadata": {},
   "outputs": [],
   "source": [
    "def ML(model_ml, features_train, target_train, features_valid, target_valid, parametrs, **fiter):\n",
    "    clf = model_ml()\n",
    "    grid = GridSearchCV(clf, parametrs, cv=5, n_jobs=5)\n",
    "    grid.fit(features_train, target_train)\n",
    "    g = grid.best_params_\n",
    "    \n",
    "    model = model_ml(random_state=12345, **g)\n",
    "    model.fit(features_train, target_train, **fiter)\n",
    "    predicted_valid = model.predict(features_valid)\n",
    "    f1 = f1_score(target_valid, predicted_valid)\n",
    "    print(f'f1 = {f1}, гиперпараметры {g}')\n",
    "    \n",
    "    return model"
   ]
  },
  {
   "cell_type": "markdown",
   "id": "c92fc5a3",
   "metadata": {},
   "source": [
    "## Логистическая регрессия"
   ]
  },
  {
   "cell_type": "code",
   "execution_count": 83,
   "id": "806f21b9",
   "metadata": {},
   "outputs": [],
   "source": [
    "model = LogisticRegression(random_state=12345, class_weight='balanced')"
   ]
  },
  {
   "cell_type": "code",
   "execution_count": 84,
   "id": "47f8180f",
   "metadata": {},
   "outputs": [
    {
     "name": "stderr",
     "output_type": "stream",
     "text": [
      "/Users/admin/opt/anaconda3/envs/praktikum/lib/python3.7/site-packages/sklearn/linear_model/logistic.py:432: FutureWarning: Default solver will be changed to 'lbfgs' in 0.22. Specify a solver to silence this warning.\n",
      "  FutureWarning)\n"
     ]
    }
   ],
   "source": [
    "model.fit(X_train, y_train);"
   ]
  },
  {
   "cell_type": "code",
   "execution_count": 85,
   "id": "2be6cc29",
   "metadata": {},
   "outputs": [],
   "source": [
    "predicted = model.predict(X_valid)"
   ]
  },
  {
   "cell_type": "code",
   "execution_count": 86,
   "id": "3ce32684",
   "metadata": {},
   "outputs": [
    {
     "data": {
      "text/plain": [
       "0.7408896034297963"
      ]
     },
     "execution_count": 86,
     "metadata": {},
     "output_type": "execute_result"
    }
   ],
   "source": [
    "f1_score(y_valid, predicted)"
   ]
  },
  {
   "cell_type": "markdown",
   "id": "ce46d634",
   "metadata": {},
   "source": [
    "## Дерево решений"
   ]
  },
  {
   "cell_type": "code",
   "execution_count": 30,
   "id": "104cc5ee",
   "metadata": {},
   "outputs": [],
   "source": [
    "parametrs_tree = {\n",
    "    'max_depth': range (90, 110, 1), \n",
    "    'class_weight': ['balanced']\n",
    "}"
   ]
  },
  {
   "cell_type": "code",
   "execution_count": 31,
   "id": "8c0b2c8d",
   "metadata": {},
   "outputs": [
    {
     "name": "stdout",
     "output_type": "stream",
     "text": [
      "f1 = 0.648038049940547, гиперпараметры {'class_weight': 'balanced', 'max_depth': 100}\n"
     ]
    }
   ],
   "source": [
    "model_tree = ML(\n",
    "    DecisionTreeClassifier, \n",
    "    X_train, y_train, X_valid, y_valid, \n",
    "    parametrs_tree\n",
    ");"
   ]
  },
  {
   "cell_type": "markdown",
   "id": "f89034f6",
   "metadata": {},
   "source": [
    "## Случайный лес"
   ]
  },
  {
   "cell_type": "code",
   "execution_count": 44,
   "id": "336595ba",
   "metadata": {},
   "outputs": [],
   "source": [
    "parametrs_random_tree = {\n",
    "    'max_depth': range (17,21, 2), \n",
    "    'n_estimators': [25, 30, 40, 60],\n",
    "    'class_weight': ['balanced'],\n",
    "    'n_jobs': [-1]\n",
    "}"
   ]
  },
  {
   "cell_type": "code",
   "execution_count": 45,
   "id": "b1360919",
   "metadata": {},
   "outputs": [
    {
     "name": "stdout",
     "output_type": "stream",
     "text": [
      "f1 = 0.3513265038087733, гиперпараметры {'class_weight': 'balanced', 'max_depth': 19, 'n_estimators': 40, 'n_jobs': -1}\n"
     ]
    }
   ],
   "source": [
    "model_random_tree = ML(\n",
    "    RandomForestClassifier, \n",
    "    X_train, y_train, X_valid, y_valid, \n",
    "    parametrs_random_tree\n",
    ");"
   ]
  },
  {
   "cell_type": "markdown",
   "id": "4d65ccc7",
   "metadata": {},
   "source": [
    "## LGBM"
   ]
  },
  {
   "cell_type": "code",
   "execution_count": 87,
   "id": "46d0a5b5",
   "metadata": {},
   "outputs": [],
   "source": [
    "parametrs_LGBM = {\n",
    "    'max_depth': range (27,33, 1), \n",
    "    'n_estimators': [250, 300, 400],\n",
    "    'n_jobs': [-1]\n",
    "}"
   ]
  },
  {
   "cell_type": "code",
   "execution_count": 88,
   "id": "d7e5999f",
   "metadata": {},
   "outputs": [
    {
     "name": "stdout",
     "output_type": "stream",
     "text": [
      "f1 = 0.7712260072626664, гиперпараметры {'max_depth': 29, 'n_estimators': 400, 'n_jobs': -1}\n"
     ]
    }
   ],
   "source": [
    "model_LGBM = ML(\n",
    "    LGBMClassifier, \n",
    "    X_train, y_train, X_valid, y_valid, \n",
    "    parametrs_LGBM\n",
    ");"
   ]
  },
  {
   "cell_type": "markdown",
   "id": "fa2abcac",
   "metadata": {},
   "source": [
    "### Проверяю на тестовой выборке"
   ]
  },
  {
   "cell_type": "code",
   "execution_count": 92,
   "id": "13a493df",
   "metadata": {},
   "outputs": [
    {
     "data": {
      "text/plain": [
       "0.754607977991747"
      ]
     },
     "execution_count": 92,
     "metadata": {},
     "output_type": "execute_result"
    }
   ],
   "source": [
    "predicted_valid = model.predict(X_test)\n",
    "f1 = f1_score(y_test, predicted_valid)\n",
    "f1"
   ]
  },
  {
   "cell_type": "markdown",
   "id": "4402f612",
   "metadata": {},
   "source": [
    "# Вывод "
   ]
  },
  {
   "cell_type": "markdown",
   "id": "38620614",
   "metadata": {},
   "source": [
    "- ### лучшей моделью оказалась LGBM. Наихудшей и самой медленно обучающейся случайный лес, ну и саммой быстрообучаемой и близкой нужному значению метрики логистическая регрессия\n",
    "- ### показатель f1 на тестовой выборке модели LGBM составил 0.754607977991747"
   ]
  },
  {
   "cell_type": "code",
   "execution_count": null,
   "id": "11375621",
   "metadata": {},
   "outputs": [],
   "source": []
  }
 ],
 "metadata": {
  "kernelspec": {
   "display_name": "Python 3",
   "language": "python",
   "name": "python3"
  },
  "language_info": {
   "codemirror_mode": {
    "name": "ipython",
    "version": 3
   },
   "file_extension": ".py",
   "mimetype": "text/x-python",
   "name": "python",
   "nbconvert_exporter": "python",
   "pygments_lexer": "ipython3",
   "version": "3.7.10"
  },
  "toc": {
   "base_numbering": 1,
   "nav_menu": {},
   "number_sections": true,
   "sideBar": true,
   "skip_h1_title": true,
   "title_cell": "Table of Contents",
   "title_sidebar": "Contents",
   "toc_cell": false,
   "toc_position": {},
   "toc_section_display": true,
   "toc_window_display": false
  }
 },
 "nbformat": 4,
 "nbformat_minor": 5
}
