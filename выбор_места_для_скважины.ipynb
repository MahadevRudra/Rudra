{
 "cells": [
  {
   "cell_type": "markdown",
   "id": "abf0d7b3",
   "metadata": {},
   "source": [
    "# Описание проекта\n",
    "Нужно решить, где бурить новую скважину.\n",
    "Шаги для выбора локации обычно такие:\n",
    "- В избранном регионе собирают характеристики для скважин: качество нефти и объём её запасов;\n",
    "- Строят модель для предсказания объёма запасов в новых скважинах;\n",
    "- Выбирают скважины с самыми высокими оценками значений;\n",
    "- Определяют регион с максимальной суммарной прибылью отобранных скважин.\n",
    "\n",
    "Вам предоставлены пробы нефти в трёх регионах. Характеристики для каждой скважины в регионе уже известны. Постройте модель для определения региона, где добыча принесёт наибольшую прибыль. Проанализируйте возможную прибыль и риски техникой Bootstrap."
   ]
  },
  {
   "cell_type": "markdown",
   "id": "984963e8",
   "metadata": {},
   "source": [
    "## 1. Загрузка и подготовка данных. "
   ]
  },
  {
   "cell_type": "code",
   "execution_count": 1,
   "id": "2e3df13a",
   "metadata": {},
   "outputs": [],
   "source": [
    "import pandas as pd\n",
    "from sklearn.model_selection import train_test_split, cross_val_score\n",
    "from sklearn.preprocessing import StandardScaler\n",
    "from sklearn.linear_model import LinearRegression\n",
    "from sklearn.metrics import mean_squared_error\n",
    "\n",
    "from numpy.random import RandomState\n",
    "import plotly.express as px"
   ]
  },
  {
   "cell_type": "markdown",
   "id": "8853bdae",
   "metadata": {},
   "source": [
    "#### Данные геологоразведки трёх регионов:\n",
    "- id — уникальный идентификатор скважины;\n",
    "- f0, f1, f2 — три признака точек (неважно, что они означают, но сами признаки значимы);\n",
    "- product — объём запасов в скважине (тыс. баррелей)."
   ]
  },
  {
   "cell_type": "code",
   "execution_count": 2,
   "id": "85cb62b9",
   "metadata": {},
   "outputs": [],
   "source": [
    "try:\n",
    "\n",
    "    df_1 = pd.read_csv('/Users/admin/Desktop/Rudra PRACTICUM/Projects/my_project/Datasets/geo_data_0.csv')\n",
    "    df_2 = pd.read_csv('/Users/admin/Desktop/Rudra PRACTICUM/Projects/my_project/Datasets/geo_data_1.csv')\n",
    "    df_3 = pd.read_csv('/Users/admin/Desktop/Rudra PRACTICUM/Projects/my_project/Datasets/geo_data_2.csv')\n",
    "    \n",
    "except:\n",
    "    \n",
    "    df_1 = pd.read_csv('/datasets/geo_data_0.csv')\n",
    "    df_2 = pd.read_csv('/datasets/geo_data_1.csv')\n",
    "    df_3 = pd.read_csv('/datasets/geo_data_2.csv')"
   ]
  },
  {
   "cell_type": "code",
   "execution_count": 6,
   "id": "04022425",
   "metadata": {},
   "outputs": [
    {
     "data": {
      "text/html": [
       "<div>\n",
       "<style scoped>\n",
       "    .dataframe tbody tr th:only-of-type {\n",
       "        vertical-align: middle;\n",
       "    }\n",
       "\n",
       "    .dataframe tbody tr th {\n",
       "        vertical-align: top;\n",
       "    }\n",
       "\n",
       "    .dataframe thead th {\n",
       "        text-align: right;\n",
       "    }\n",
       "</style>\n",
       "<table border=\"1\" class=\"dataframe\">\n",
       "  <thead>\n",
       "    <tr style=\"text-align: right;\">\n",
       "      <th></th>\n",
       "      <th>id</th>\n",
       "      <th>f0</th>\n",
       "      <th>f1</th>\n",
       "      <th>f2</th>\n",
       "      <th>product</th>\n",
       "    </tr>\n",
       "  </thead>\n",
       "  <tbody>\n",
       "    <tr>\n",
       "      <td>0</td>\n",
       "      <td>txEyH</td>\n",
       "      <td>0.705745</td>\n",
       "      <td>-0.497823</td>\n",
       "      <td>1.221170</td>\n",
       "      <td>105.280062</td>\n",
       "    </tr>\n",
       "    <tr>\n",
       "      <td>1</td>\n",
       "      <td>2acmU</td>\n",
       "      <td>1.334711</td>\n",
       "      <td>-0.340164</td>\n",
       "      <td>4.365080</td>\n",
       "      <td>73.037750</td>\n",
       "    </tr>\n",
       "    <tr>\n",
       "      <td>2</td>\n",
       "      <td>409Wp</td>\n",
       "      <td>1.022732</td>\n",
       "      <td>0.151990</td>\n",
       "      <td>1.419926</td>\n",
       "      <td>85.265647</td>\n",
       "    </tr>\n",
       "    <tr>\n",
       "      <td>3</td>\n",
       "      <td>iJLyR</td>\n",
       "      <td>-0.032172</td>\n",
       "      <td>0.139033</td>\n",
       "      <td>2.978566</td>\n",
       "      <td>168.620776</td>\n",
       "    </tr>\n",
       "    <tr>\n",
       "      <td>4</td>\n",
       "      <td>Xdl7t</td>\n",
       "      <td>1.988431</td>\n",
       "      <td>0.155413</td>\n",
       "      <td>4.751769</td>\n",
       "      <td>154.036647</td>\n",
       "    </tr>\n",
       "  </tbody>\n",
       "</table>\n",
       "</div>"
      ],
      "text/plain": [
       "      id        f0        f1        f2     product\n",
       "0  txEyH  0.705745 -0.497823  1.221170  105.280062\n",
       "1  2acmU  1.334711 -0.340164  4.365080   73.037750\n",
       "2  409Wp  1.022732  0.151990  1.419926   85.265647\n",
       "3  iJLyR -0.032172  0.139033  2.978566  168.620776\n",
       "4  Xdl7t  1.988431  0.155413  4.751769  154.036647"
      ]
     },
     "execution_count": 6,
     "metadata": {},
     "output_type": "execute_result"
    }
   ],
   "source": [
    "df_1.head()"
   ]
  },
  {
   "cell_type": "code",
   "execution_count": 7,
   "id": "dd2a7bd8",
   "metadata": {},
   "outputs": [
    {
     "name": "stdout",
     "output_type": "stream",
     "text": [
      "<class 'pandas.core.frame.DataFrame'>\n",
      "RangeIndex: 100000 entries, 0 to 99999\n",
      "Data columns (total 5 columns):\n",
      "id         100000 non-null object\n",
      "f0         100000 non-null float64\n",
      "f1         100000 non-null float64\n",
      "f2         100000 non-null float64\n",
      "product    100000 non-null float64\n",
      "dtypes: float64(4), object(1)\n",
      "memory usage: 3.8+ MB\n"
     ]
    }
   ],
   "source": [
    "df_1.info()"
   ]
  },
  {
   "cell_type": "code",
   "execution_count": 8,
   "id": "aa6d4971",
   "metadata": {},
   "outputs": [
    {
     "data": {
      "text/html": [
       "<div>\n",
       "<style scoped>\n",
       "    .dataframe tbody tr th:only-of-type {\n",
       "        vertical-align: middle;\n",
       "    }\n",
       "\n",
       "    .dataframe tbody tr th {\n",
       "        vertical-align: top;\n",
       "    }\n",
       "\n",
       "    .dataframe thead th {\n",
       "        text-align: right;\n",
       "    }\n",
       "</style>\n",
       "<table border=\"1\" class=\"dataframe\">\n",
       "  <thead>\n",
       "    <tr style=\"text-align: right;\">\n",
       "      <th></th>\n",
       "      <th>id</th>\n",
       "      <th>f0</th>\n",
       "      <th>f1</th>\n",
       "      <th>f2</th>\n",
       "      <th>product</th>\n",
       "    </tr>\n",
       "  </thead>\n",
       "  <tbody>\n",
       "    <tr>\n",
       "      <td>0</td>\n",
       "      <td>kBEdx</td>\n",
       "      <td>-15.001348</td>\n",
       "      <td>-8.276000</td>\n",
       "      <td>-0.005876</td>\n",
       "      <td>3.179103</td>\n",
       "    </tr>\n",
       "    <tr>\n",
       "      <td>1</td>\n",
       "      <td>62mP7</td>\n",
       "      <td>14.272088</td>\n",
       "      <td>-3.475083</td>\n",
       "      <td>0.999183</td>\n",
       "      <td>26.953261</td>\n",
       "    </tr>\n",
       "    <tr>\n",
       "      <td>2</td>\n",
       "      <td>vyE1P</td>\n",
       "      <td>6.263187</td>\n",
       "      <td>-5.948386</td>\n",
       "      <td>5.001160</td>\n",
       "      <td>134.766305</td>\n",
       "    </tr>\n",
       "    <tr>\n",
       "      <td>3</td>\n",
       "      <td>KcrkZ</td>\n",
       "      <td>-13.081196</td>\n",
       "      <td>-11.506057</td>\n",
       "      <td>4.999415</td>\n",
       "      <td>137.945408</td>\n",
       "    </tr>\n",
       "    <tr>\n",
       "      <td>4</td>\n",
       "      <td>AHL4O</td>\n",
       "      <td>12.702195</td>\n",
       "      <td>-8.147433</td>\n",
       "      <td>5.004363</td>\n",
       "      <td>134.766305</td>\n",
       "    </tr>\n",
       "  </tbody>\n",
       "</table>\n",
       "</div>"
      ],
      "text/plain": [
       "      id         f0         f1        f2     product\n",
       "0  kBEdx -15.001348  -8.276000 -0.005876    3.179103\n",
       "1  62mP7  14.272088  -3.475083  0.999183   26.953261\n",
       "2  vyE1P   6.263187  -5.948386  5.001160  134.766305\n",
       "3  KcrkZ -13.081196 -11.506057  4.999415  137.945408\n",
       "4  AHL4O  12.702195  -8.147433  5.004363  134.766305"
      ]
     },
     "execution_count": 8,
     "metadata": {},
     "output_type": "execute_result"
    }
   ],
   "source": [
    "df_2.head()"
   ]
  },
  {
   "cell_type": "code",
   "execution_count": 9,
   "id": "7f8205d9",
   "metadata": {},
   "outputs": [
    {
     "name": "stdout",
     "output_type": "stream",
     "text": [
      "<class 'pandas.core.frame.DataFrame'>\n",
      "RangeIndex: 100000 entries, 0 to 99999\n",
      "Data columns (total 5 columns):\n",
      "id         100000 non-null object\n",
      "f0         100000 non-null float64\n",
      "f1         100000 non-null float64\n",
      "f2         100000 non-null float64\n",
      "product    100000 non-null float64\n",
      "dtypes: float64(4), object(1)\n",
      "memory usage: 3.8+ MB\n"
     ]
    }
   ],
   "source": [
    "df_2.info()"
   ]
  },
  {
   "cell_type": "code",
   "execution_count": 10,
   "id": "666b0801",
   "metadata": {},
   "outputs": [
    {
     "data": {
      "text/html": [
       "<div>\n",
       "<style scoped>\n",
       "    .dataframe tbody tr th:only-of-type {\n",
       "        vertical-align: middle;\n",
       "    }\n",
       "\n",
       "    .dataframe tbody tr th {\n",
       "        vertical-align: top;\n",
       "    }\n",
       "\n",
       "    .dataframe thead th {\n",
       "        text-align: right;\n",
       "    }\n",
       "</style>\n",
       "<table border=\"1\" class=\"dataframe\">\n",
       "  <thead>\n",
       "    <tr style=\"text-align: right;\">\n",
       "      <th></th>\n",
       "      <th>id</th>\n",
       "      <th>f0</th>\n",
       "      <th>f1</th>\n",
       "      <th>f2</th>\n",
       "      <th>product</th>\n",
       "    </tr>\n",
       "  </thead>\n",
       "  <tbody>\n",
       "    <tr>\n",
       "      <td>0</td>\n",
       "      <td>fwXo0</td>\n",
       "      <td>-1.146987</td>\n",
       "      <td>0.963328</td>\n",
       "      <td>-0.828965</td>\n",
       "      <td>27.758673</td>\n",
       "    </tr>\n",
       "    <tr>\n",
       "      <td>1</td>\n",
       "      <td>WJtFt</td>\n",
       "      <td>0.262778</td>\n",
       "      <td>0.269839</td>\n",
       "      <td>-2.530187</td>\n",
       "      <td>56.069697</td>\n",
       "    </tr>\n",
       "    <tr>\n",
       "      <td>2</td>\n",
       "      <td>ovLUW</td>\n",
       "      <td>0.194587</td>\n",
       "      <td>0.289035</td>\n",
       "      <td>-5.586433</td>\n",
       "      <td>62.871910</td>\n",
       "    </tr>\n",
       "    <tr>\n",
       "      <td>3</td>\n",
       "      <td>q6cA6</td>\n",
       "      <td>2.236060</td>\n",
       "      <td>-0.553760</td>\n",
       "      <td>0.930038</td>\n",
       "      <td>114.572842</td>\n",
       "    </tr>\n",
       "    <tr>\n",
       "      <td>4</td>\n",
       "      <td>WPMUX</td>\n",
       "      <td>-0.515993</td>\n",
       "      <td>1.716266</td>\n",
       "      <td>5.899011</td>\n",
       "      <td>149.600746</td>\n",
       "    </tr>\n",
       "  </tbody>\n",
       "</table>\n",
       "</div>"
      ],
      "text/plain": [
       "      id        f0        f1        f2     product\n",
       "0  fwXo0 -1.146987  0.963328 -0.828965   27.758673\n",
       "1  WJtFt  0.262778  0.269839 -2.530187   56.069697\n",
       "2  ovLUW  0.194587  0.289035 -5.586433   62.871910\n",
       "3  q6cA6  2.236060 -0.553760  0.930038  114.572842\n",
       "4  WPMUX -0.515993  1.716266  5.899011  149.600746"
      ]
     },
     "execution_count": 10,
     "metadata": {},
     "output_type": "execute_result"
    }
   ],
   "source": [
    "df_3.head()"
   ]
  },
  {
   "cell_type": "code",
   "execution_count": 11,
   "id": "8267139f",
   "metadata": {},
   "outputs": [
    {
     "name": "stdout",
     "output_type": "stream",
     "text": [
      "<class 'pandas.core.frame.DataFrame'>\n",
      "RangeIndex: 100000 entries, 0 to 99999\n",
      "Data columns (total 5 columns):\n",
      "id         100000 non-null object\n",
      "f0         100000 non-null float64\n",
      "f1         100000 non-null float64\n",
      "f2         100000 non-null float64\n",
      "product    100000 non-null float64\n",
      "dtypes: float64(4), object(1)\n",
      "memory usage: 3.8+ MB\n"
     ]
    }
   ],
   "source": [
    "df_3.info()"
   ]
  },
  {
   "cell_type": "markdown",
   "id": "383f9741",
   "metadata": {},
   "source": [
    "### Вывод:\n",
    "- #### загрузил данные\n",
    "- #### DF не стал скреплять так как считаю это снизит predict модели\n",
    "- #### проверил df с помощью функции info(), нужные мне фичи имеют подходящий тип данных, а так же убедился в отсутствии пустых значений"
   ]
  },
  {
   "cell_type": "markdown",
   "id": "c131faa0",
   "metadata": {},
   "source": [
    "## 2. Обучение и проверка модели для каждого региона:"
   ]
  },
  {
   "cell_type": "markdown",
   "id": "141b257f",
   "metadata": {},
   "source": [
    "### 2.1. Разбиваю данные на обучающую и валидационную выборки в соотношении 75:25.\n"
   ]
  },
  {
   "cell_type": "code",
   "execution_count": 12,
   "id": "27f6ec2c",
   "metadata": {},
   "outputs": [],
   "source": [
    "def sep(data, columns):\n",
    "    target = data[columns]\n",
    "    features = data.drop([columns, 'id'], axis=1)\n",
    "    \n",
    "    features_train, features_valid, target_train, target_valid = train_test_split(\n",
    "    features, target, test_size=0.25, random_state=12345\n",
    "    )\n",
    "    \n",
    "    scaler = StandardScaler()\n",
    "    scaler.fit(features_train)\n",
    "    pd.options.mode.chained_assignment = None\n",
    "    \n",
    "    features_train = scaler.transform(features_train)\n",
    "    features_valid = scaler.transform(features_valid)\n",
    "    \n",
    "    return target, features, features_train, features_valid, target_train, target_valid"
   ]
  },
  {
   "cell_type": "code",
   "execution_count": 13,
   "id": "91f7f48c",
   "metadata": {},
   "outputs": [],
   "source": [
    "target_1, features_1, features_train_1, features_valid_1, target_train_1, target_valid_1 = sep(df_1, 'product')\n",
    "target_2, features_2, features_train_2, features_valid_2, target_train_2, target_valid_2 = sep(df_2, 'product')\n",
    "target_3, features_3, features_train_3, features_valid_3, target_train_3, target_valid_3 = sep(df_3, 'product')"
   ]
  },
  {
   "cell_type": "markdown",
   "id": "e015ec01",
   "metadata": {},
   "source": [
    "### 2.2. Обучаю модель и делаю предсказания на валидационной выборке."
   ]
  },
  {
   "cell_type": "code",
   "execution_count": 14,
   "id": "19096fe2",
   "metadata": {},
   "outputs": [],
   "source": [
    "def model_LinearRegression(features_train, target_train, features_valid, target_valid):\n",
    "    model = LinearRegression()\n",
    "    model.fit(features_train, target_train)\n",
    "    predictions_valid = model.predict(features_valid)\n",
    "    \n",
    "    result = mean_squared_error(target_valid, predictions_valid) ** 0.5\n",
    "    \n",
    "    predictions_valid = pd.Series(predictions_valid, index=target_valid.index)\n",
    "    \n",
    "    print(f'Средний запас предсказанного сырья = {predictions_valid.mean()}, RMSE = {result}')\n",
    "    \n",
    "    return model, predictions_valid, result"
   ]
  },
  {
   "cell_type": "code",
   "execution_count": 15,
   "id": "86700954",
   "metadata": {},
   "outputs": [
    {
     "name": "stdout",
     "output_type": "stream",
     "text": [
      "Средний запас предсказанного сырья = 92.59256778438038, RMSE = 37.5794217150813\n"
     ]
    }
   ],
   "source": [
    "model_1, predictions_valid_1, result_1 = model_LinearRegression(\n",
    "    features_train_1, target_train_1, features_valid_1, target_valid_1\n",
    ")"
   ]
  },
  {
   "cell_type": "code",
   "execution_count": 16,
   "id": "51a05fa0",
   "metadata": {},
   "outputs": [
    {
     "name": "stdout",
     "output_type": "stream",
     "text": [
      "Средний запас предсказанного сырья = 68.728546895446, RMSE = 0.8930992867756158\n"
     ]
    }
   ],
   "source": [
    "model_2, predictions_valid_2, result_2 = model_LinearRegression(\n",
    "    features_train_2, target_train_2, features_valid_2, target_valid_2\n",
    ")"
   ]
  },
  {
   "cell_type": "code",
   "execution_count": 17,
   "id": "96d8fc61",
   "metadata": {},
   "outputs": [
    {
     "name": "stdout",
     "output_type": "stream",
     "text": [
      "Средний запас предсказанного сырья = 94.96504596800489, RMSE = 40.02970873393434\n"
     ]
    }
   ],
   "source": [
    "model_3, predictions_valid_3, result_3 = model_LinearRegression(\n",
    "    features_train_3, target_train_3, features_valid_3, target_valid_3\n",
    ")"
   ]
  },
  {
   "cell_type": "markdown",
   "id": "f86438fa",
   "metadata": {},
   "source": [
    "### 2.5. Проанализирую результаты."
   ]
  },
  {
   "cell_type": "code",
   "execution_count": null,
   "id": "d3ec217c",
   "metadata": {},
   "outputs": [],
   "source": [
    "fig = px.scatter_matrix(df_2, dimensions=['f0', 'f1', 'f2', 'product'])\n",
    "fig.show()\n",
    "df_2.corr()"
   ]
  },
  {
   "cell_type": "markdown",
   "id": "656497bd",
   "metadata": {},
   "source": [
    "### Вывод:\n",
    "- #### df_2 регион имеет наименьший показатель метрики так как его f2 признак сильно корелирует с признаком product и составляет 0.999397\n",
    "- #### у остальных двух регионов выигрывает df_1 регион"
   ]
  },
  {
   "cell_type": "markdown",
   "id": "dcaa14e8",
   "metadata": {},
   "source": [
    "## 3 Подготовка к расчёту прибыли:"
   ]
  },
  {
   "cell_type": "markdown",
   "id": "e6623fc7",
   "metadata": {},
   "source": [
    "### 3.1. Все ключевые значения для расчётов сохраняю в отдельных переменных."
   ]
  },
  {
   "cell_type": "code",
   "execution_count": 19,
   "id": "7c756267",
   "metadata": {},
   "outputs": [],
   "source": [
    "entire_budget = 10e9"
   ]
  },
  {
   "cell_type": "code",
   "execution_count": 20,
   "id": "f8c4f1c1",
   "metadata": {},
   "outputs": [],
   "source": [
    "cont_wells = 200"
   ]
  },
  {
   "cell_type": "code",
   "execution_count": 21,
   "id": "687a00fd",
   "metadata": {},
   "outputs": [],
   "source": [
    "revenue_unit = 450e3"
   ]
  },
  {
   "cell_type": "code",
   "execution_count": 22,
   "id": "1769abf8",
   "metadata": {},
   "outputs": [],
   "source": [
    "total_mines = 500"
   ]
  },
  {
   "cell_type": "markdown",
   "id": "8f06832b",
   "metadata": {},
   "source": [
    "### 3.2. Рассчитываю достаточный объём сырья для безубыточной разработки новой скважины. Сравниваю полученный объём сырья со средним запасом в каждом регионе."
   ]
  },
  {
   "cell_type": "code",
   "execution_count": 23,
   "id": "effb05fd",
   "metadata": {},
   "outputs": [],
   "source": [
    "well_income = entire_budget / cont_wells / revenue_unit"
   ]
  },
  {
   "cell_type": "code",
   "execution_count": 24,
   "id": "123afa85",
   "metadata": {},
   "outputs": [
    {
     "data": {
      "text/plain": [
       "111.11111111111111"
      ]
     },
     "execution_count": 24,
     "metadata": {},
     "output_type": "execute_result"
    }
   ],
   "source": [
    "well_income"
   ]
  },
  {
   "cell_type": "code",
   "execution_count": 25,
   "id": "d334951b",
   "metadata": {},
   "outputs": [
    {
     "data": {
      "text/plain": [
       "(92.50000000000001, 68.82500000000002, 95.00000000000004)"
      ]
     },
     "execution_count": 25,
     "metadata": {},
     "output_type": "execute_result"
    }
   ],
   "source": [
    "target_1.mean(), target_2.mean(), target_3.mean()"
   ]
  },
  {
   "cell_type": "markdown",
   "id": "c52cdc82",
   "metadata": {},
   "source": [
    "### Вывод:\n",
    "- #### в среднем по регионам обем сырья в месторождении близок к показателю безубыточной добычи\n",
    "- #### ближе всего находится df_3 регион"
   ]
  },
  {
   "cell_type": "markdown",
   "id": "e9c52885",
   "metadata": {},
   "source": [
    "## 4. Пишу функцию для расчёта прибыли по выбранным скважинам и предсказаниям модели:"
   ]
  },
  {
   "cell_type": "code",
   "execution_count": 26,
   "id": "208a16c6",
   "metadata": {},
   "outputs": [],
   "source": [
    "def profitable_wells(subsample, target_valid):\n",
    "    best_200 = subsample.sort_values(ascending=False).head(200)\n",
    "    \n",
    "    fact_200 = target_valid[best_200.index]\n",
    "    \n",
    "    sum_fact_200 = fact_200.sum()\n",
    "    \n",
    "    profit = sum_fact_200 * revenue_unit - entire_budget\n",
    "    \n",
    "    return best_200, fact_200, sum_fact_200, profit    "
   ]
  },
  {
   "cell_type": "markdown",
   "id": "9b23a432",
   "metadata": {},
   "source": [
    "## 5. Считаю риски и прибыль для каждого региона:"
   ]
  },
  {
   "cell_type": "markdown",
   "id": "1ed8793c",
   "metadata": {},
   "source": [
    "### 5.1. Применяю технику Bootstrap с 1000 выборок, чтобы найти распределение прибыли."
   ]
  },
  {
   "cell_type": "code",
   "execution_count": 27,
   "id": "db288b90",
   "metadata": {},
   "outputs": [],
   "source": [
    "def bootstrap(predictions_valid, target_valid):\n",
    "    state = RandomState(12345)\n",
    "    oll_profit = []\n",
    "\n",
    "    for i in range(1000):\n",
    "        subsample = predictions_valid.sample(n=total_mines, random_state=state, replace=True)\n",
    "        best_200, fact_200, sum_fact_200, profit = profitable_wells(subsample, target_valid)\n",
    "        oll_profit.append(profit)\n",
    "        \n",
    "    return oll_profit"
   ]
  },
  {
   "cell_type": "code",
   "execution_count": 28,
   "id": "f002fa1e",
   "metadata": {},
   "outputs": [],
   "source": [
    "oll_profit_1 = bootstrap(predictions_valid_1, target_valid_1)\n",
    "oll_profit_2 = bootstrap(predictions_valid_2, target_valid_2)\n",
    "oll_profit_3 = bootstrap(predictions_valid_3, target_valid_3)"
   ]
  },
  {
   "cell_type": "markdown",
   "id": "35338c5b",
   "metadata": {},
   "source": [
    "### 5.2. Нахожу среднюю прибыль, 95%-й доверительный интервал и риск убытков. Убыток — это отрицательная прибыль."
   ]
  },
  {
   "cell_type": "code",
   "execution_count": 29,
   "id": "24cd8843",
   "metadata": {},
   "outputs": [],
   "source": [
    "def metrics(oll_profit):\n",
    "    oll_profit = pd.Series(oll_profit)\n",
    "    mean_profit = oll_profit.mean()\n",
    "    lower = oll_profit.quantile(0.025)\n",
    "    upper = oll_profit.quantile(0.975)\n",
    "    loss = 0\n",
    "    for i in oll_profit:\n",
    "        if i < 0:\n",
    "            loss += 1\n",
    "    risk_losses = loss / len(oll_profit)\n",
    "    \n",
    "    print(\n",
    "        f'Средняя прибыль равна {mean_profit}, доверительный интервал 95% от {lower} до {upper}, риск убытков равен {risk_losses:.1%}'\n",
    "    )\n",
    "    return mean_profit, lower, upper, risk_losses"
   ]
  },
  {
   "cell_type": "code",
   "execution_count": 30,
   "id": "53aadb45",
   "metadata": {},
   "outputs": [
    {
     "name": "stdout",
     "output_type": "stream",
     "text": [
      "Средняя прибыль равна 396164984.8023711, доверительный интервал 95% от -37181596.26254606 до 842688161.1281354, риск убытков равен 6.9%\n"
     ]
    }
   ],
   "source": [
    "mean_profit_1, lower_1, upper_1, risk_losses_1 = metrics(oll_profit_1)"
   ]
  },
  {
   "cell_type": "code",
   "execution_count": 31,
   "id": "7afe6d2d",
   "metadata": {},
   "outputs": [
    {
     "name": "stdout",
     "output_type": "stream",
     "text": [
      "Средняя прибыль равна 456045105.7866609, доверительный интервал 95% от 109475721.4548029 до 791005513.2594593, риск убытков равен 1.5%\n"
     ]
    }
   ],
   "source": [
    "mean_profit_2, lower_2, upper_2, risk_losses_2 = metrics(oll_profit_2)"
   ]
  },
  {
   "cell_type": "code",
   "execution_count": 32,
   "id": "718bc473",
   "metadata": {},
   "outputs": [
    {
     "name": "stdout",
     "output_type": "stream",
     "text": [
      "Средняя прибыль равна 404403866.56835675, доверительный интервал 95% от -58533441.0505024 до 841123996.7081368, риск убытков равен 7.6%\n"
     ]
    }
   ],
   "source": [
    "mean_profit_3, lower_3, upper_3, risk_losses_3 = metrics(oll_profit_3)"
   ]
  },
  {
   "cell_type": "markdown",
   "id": "53823070",
   "metadata": {},
   "source": [
    "### Вывод:\n",
    "- #### предлагаю для добычи нефти df_2 регион\n",
    "- #### Средняя прибыль равна 456045105.7866609, доверительный интервал 95% от 109475721.4548029 до 791005513.2594593, риск убытков равен 1.5%\n",
    "- #### как мы видим средняя прибыль в этом регионе составляет наибольшую сумму с наименьшим доверительным интервало, что увеличивает предсказание. А также наименьший процент риска убытков, который примеррно в 5 раз меньше чем в остальных ррегионах"
   ]
  }
 ],
 "metadata": {
  "kernelspec": {
   "display_name": "Python 3",
   "language": "python",
   "name": "python3"
  },
  "language_info": {
   "codemirror_mode": {
    "name": "ipython",
    "version": 3
   },
   "file_extension": ".py",
   "mimetype": "text/x-python",
   "name": "python",
   "nbconvert_exporter": "python",
   "pygments_lexer": "ipython3",
   "version": "3.7.10"
  },
  "toc": {
   "base_numbering": 1,
   "nav_menu": {},
   "number_sections": true,
   "sideBar": true,
   "skip_h1_title": true,
   "title_cell": "Table of Contents",
   "title_sidebar": "Contents",
   "toc_cell": false,
   "toc_position": {},
   "toc_section_display": true,
   "toc_window_display": false
  }
 },
 "nbformat": 4,
 "nbformat_minor": 5
}
